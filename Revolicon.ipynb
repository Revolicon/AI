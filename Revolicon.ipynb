{
  "cells": [
    {
      "cell_type": "markdown",
      "metadata": {
        "id": "zGGDvVjub4T6"
      },
      "source": [
        "**DeepImageSearch**\n",
        "\n"
      ]
    },
    {
      "cell_type": "code",
      "execution_count": null,
      "metadata": {
        "id": "52HOBmIHpvhm"
      },
      "outputs": [],
      "source": [
        "!pip install DeepImageSearch"
      ]
    },
    {
      "cell_type": "code",
      "execution_count": null,
      "metadata": {
        "id": "kmaSWbfYSQww"
      },
      "outputs": [],
      "source": [
        "from DeepImageSearch import Index, LoadData, SearchImage\n",
        "!unzip 'cleaned_data.zip'\n",
        "image_list = LoadData().from_folder([\"cleaned_data\"])"
      ]
    },
    {
      "cell_type": "code",
      "execution_count": null,
      "metadata": {
        "id": "Uii5O8m3rBIg"
      },
      "outputs": [],
      "source": [
        "Index(image_list).Start()"
      ]
    },
    {
      "cell_type": "code",
      "execution_count": null,
      "metadata": {
        "colab": {
          "base_uri": "https://localhost:8080/",
          "height": 35
        },
        "id": "kA_dyRoYtH8y",
        "outputId": "5fd4a65d-7341-47f2-e06b-3869e8f80580"
      },
      "outputs": [
        {
          "data": {
            "application/vnd.google.colaboratory.intrinsic+json": {
              "type": "string"
            },
            "text/plain": [
              "'Fill/repeat-circle.png'"
            ]
          },
          "execution_count": 20,
          "metadata": {},
          "output_type": "execute_result"
        }
      ],
      "source": [
        "image_list[150]"
      ]
    },
    {
      "cell_type": "code",
      "execution_count": null,
      "metadata": {
        "id": "FNwgExLbRG4d"
      },
      "outputs": [],
      "source": [
        "!unzip 'cleaned_data.zip'"
      ]
    },
    {
      "cell_type": "code",
      "execution_count": null,
      "metadata": {
        "id": "8O-RtsZ7rO_O"
      },
      "outputs": [],
      "source": [
        "SearchImage().plot_similar_images(image_path=image_list[150])"
      ]
    },
    {
      "cell_type": "markdown",
      "metadata": {
        "id": "-NYnEOVuRL2H"
      },
      "source": [
        "**Tensorflow Classification Model**\n",
        "\n",
        "\n"
      ]
    },
    {
      "cell_type": "code",
      "execution_count": null,
      "metadata": {
        "id": "a8iUOP7DFSHy"
      },
      "outputs": [],
      "source": [
        "import tensorflow as tf\n",
        "from tensorflow import keras\n",
        "import tensorflow_datasets as tfds\n",
        "\n",
        "model = tf.keras.models.Sequential([\n",
        "\n",
        "    tf.keras.layers.Conv2D(32, (3,3), activation='relu',input_shape=(128, 128, 3)),\n",
        "    tf.keras.layers.MaxPooling2D(),\n",
        "    \n",
        "    tf.keras.layers.Conv2D(64, (3,3), activation='relu'),\n",
        "    tf.keras.layers.MaxPooling2D(),\n",
        "  \n",
        "    tf.keras.layers.Conv2D(128, (3,3), activation='relu'),\n",
        "    tf.keras.layers.MaxPooling2D(),\n",
        "\n",
        "    tf.keras.layers.Flatten(),\n",
        "  \n",
        "    tf.keras.layers.Dense(64, activation='relu'),\n",
        "\n",
        "    tf.keras.layers.Dense(128, activation='relu'),\n",
        "    \n",
        "    tf.keras.layers.Dense(13, activation='softmax')\n",
        "    ])\n"
      ]
    },
    {
      "cell_type": "code",
      "execution_count": null,
      "metadata": {
        "colab": {
          "base_uri": "https://localhost:8080/"
        },
        "id": "0ZvTy8N7EuPK",
        "outputId": "da76b5da-fdf9-4541-b304-484ab8890587"
      },
      "outputs": [
        {
          "name": "stdout",
          "output_type": "stream",
          "text": [
            "Model: \"sequential_10\"\n",
            "_________________________________________________________________\n",
            " Layer (type)                Output Shape              Param #   \n",
            "=================================================================\n",
            " conv2d_17 (Conv2D)          (None, 126, 126, 16)      448       \n",
            "                                                                 \n",
            " max_pooling2d_17 (MaxPoolin  (None, 63, 63, 16)       0         \n",
            " g2D)                                                            \n",
            "                                                                 \n",
            " conv2d_18 (Conv2D)          (None, 61, 61, 32)        4640      \n",
            "                                                                 \n",
            " max_pooling2d_18 (MaxPoolin  (None, 30, 30, 32)       0         \n",
            " g2D)                                                            \n",
            "                                                                 \n",
            " conv2d_19 (Conv2D)          (None, 28, 28, 64)        18496     \n",
            "                                                                 \n",
            " max_pooling2d_19 (MaxPoolin  (None, 14, 14, 64)       0         \n",
            " g2D)                                                            \n",
            "                                                                 \n",
            " flatten_10 (Flatten)        (None, 12544)             0         \n",
            "                                                                 \n",
            " dense_30 (Dense)            (None, 64)                802880    \n",
            "                                                                 \n",
            " dense_31 (Dense)            (None, 128)               8320      \n",
            "                                                                 \n",
            " dense_32 (Dense)            (None, 13)                1677      \n",
            "                                                                 \n",
            "=================================================================\n",
            "Total params: 836,461\n",
            "Trainable params: 836,461\n",
            "Non-trainable params: 0\n",
            "_________________________________________________________________\n"
          ]
        }
      ],
      "source": [
        "model.summary()"
      ]
    },
    {
      "cell_type": "code",
      "execution_count": null,
      "metadata": {
        "id": "ed7dPJ4IFVkn"
      },
      "outputs": [],
      "source": [
        "model.compile(loss=tf.losses.sparse_categorical_crossentropy,\n",
        "              optimizer=\"adam\",\n",
        "              metrics=[\"acc\"])"
      ]
    },
    {
      "cell_type": "code",
      "execution_count": null,
      "metadata": {
        "colab": {
          "base_uri": "https://localhost:8080/"
        },
        "id": "h16OWfvYBUcO",
        "outputId": "f17905e2-797f-4959-b264-d769e9344da3"
      },
      "outputs": [
        {
          "name": "stdout",
          "output_type": "stream",
          "text": [
            "Found 3927 files belonging to 13 classes.\n"
          ]
        }
      ],
      "source": [
        "dataset=tf.keras.utils.image_dataset_from_directory(\"cleaned_data\",seed=123,image_size=(128,128))"
      ]
    },
    {
      "cell_type": "code",
      "execution_count": null,
      "metadata": {
        "id": "KZGp6YgbWEPk"
      },
      "outputs": [],
      "source": [
        "dataset=dataset.map(lambda x,y: (x/255, y))"
      ]
    },
    {
      "cell_type": "code",
      "execution_count": null,
      "metadata": {
        "id": "2Xm1ZgaScdBN"
      },
      "outputs": [],
      "source": [
        "train_size = int(len(dataset)*.7)\n",
        "val_size = int(len(dataset)*.2)\n",
        "test_size = int(len(dataset)*.1)\n",
        "\n",
        "train = dataset.take(train_size)\n",
        "val = dataset.skip(train_size).take(val_size)\n",
        "test = dataset.skip(train_size+val_size).take(test_size)"
      ]
    },
    {
      "cell_type": "code",
      "execution_count": null,
      "metadata": {
        "colab": {
          "base_uri": "https://localhost:8080/"
        },
        "id": "Yq8qki2pICw6",
        "outputId": "9265d85d-12f0-46d9-f9f8-c0a188c7dc77"
      },
      "outputs": [
        {
          "name": "stdout",
          "output_type": "stream",
          "text": [
            "Epoch 1/15\n",
            "86/86 [==============================] - 42s 487ms/step - loss: 1.7670 - acc: 0.4364 - val_loss: 1.2178 - val_acc: 0.6641\n",
            "Epoch 2/15\n",
            "86/86 [==============================] - 42s 489ms/step - loss: 0.8232 - acc: 0.7576 - val_loss: 0.9337 - val_acc: 0.7435\n",
            "Epoch 3/15\n",
            "86/86 [==============================] - 42s 482ms/step - loss: 0.4461 - acc: 0.8634 - val_loss: 0.7685 - val_acc: 0.8099\n",
            "Epoch 4/15\n",
            "86/86 [==============================] - 42s 482ms/step - loss: 0.2372 - acc: 0.9328 - val_loss: 0.7810 - val_acc: 0.8333\n",
            "Epoch 5/15\n",
            "86/86 [==============================] - 41s 478ms/step - loss: 0.1550 - acc: 0.9564 - val_loss: 0.8996 - val_acc: 0.8294\n",
            "Epoch 6/15\n",
            "86/86 [==============================] - 41s 480ms/step - loss: 0.1047 - acc: 0.9742 - val_loss: 0.7139 - val_acc: 0.8685\n",
            "Epoch 7/15\n",
            "86/86 [==============================] - 43s 495ms/step - loss: 0.0836 - acc: 0.9782 - val_loss: 0.7697 - val_acc: 0.8555\n",
            "Epoch 8/15\n",
            "86/86 [==============================] - 40s 467ms/step - loss: 0.0663 - acc: 0.9833 - val_loss: 0.7223 - val_acc: 0.8776\n",
            "Epoch 9/15\n",
            "86/86 [==============================] - 41s 481ms/step - loss: 0.0475 - acc: 0.9855 - val_loss: 0.7165 - val_acc: 0.8724\n",
            "Epoch 10/15\n",
            "86/86 [==============================] - 41s 481ms/step - loss: 0.0526 - acc: 0.9873 - val_loss: 0.6672 - val_acc: 0.8763\n",
            "Epoch 11/15\n",
            "86/86 [==============================] - 41s 482ms/step - loss: 0.0426 - acc: 0.9891 - val_loss: 0.6943 - val_acc: 0.8867\n",
            "Epoch 12/15\n",
            "86/86 [==============================] - 40s 464ms/step - loss: 0.0361 - acc: 0.9906 - val_loss: 0.6232 - val_acc: 0.8776\n",
            "Epoch 13/15\n",
            "86/86 [==============================] - 41s 480ms/step - loss: 0.0323 - acc: 0.9924 - val_loss: 0.6125 - val_acc: 0.8854\n",
            "Epoch 14/15\n",
            "86/86 [==============================] - 43s 499ms/step - loss: 0.0198 - acc: 0.9924 - val_loss: 0.6657 - val_acc: 0.8776\n",
            "Epoch 15/15\n",
            "86/86 [==============================] - 42s 489ms/step - loss: 0.0270 - acc: 0.9906 - val_loss: 0.5708 - val_acc: 0.8932\n"
          ]
        }
      ],
      "source": [
        "history = model.fit(train,validation_data=val,epochs=15,verbose=1)"
      ]
    },
    {
      "cell_type": "code",
      "execution_count": null,
      "metadata": {
        "id": "q9WqlUvPhPEy"
      },
      "outputs": [],
      "source": [
        "import numpy as np\n",
        "from matplotlib import pyplot as plt"
      ]
    },
    {
      "cell_type": "code",
      "execution_count": null,
      "metadata": {
        "colab": {
          "base_uri": "https://localhost:8080/",
          "height": 294
        },
        "id": "hm_TOfl52lAh",
        "outputId": "d17753f4-f9f1-4979-f68a-d0f528d6af9f"
      },
      "outputs": [
        {
          "data": {
            "image/png": "[encoded data removed]",
            "text/plain": [
              "<Figure size 432x288 with 1 Axes>"
            ]
          },
          "metadata": {
            "needs_background": "light"
          },
          "output_type": "display_data"
        }
      ],
      "source": [
        "fig = plt.figure()\n",
        "plt.plot(history.history['loss'], color='teal', label='loss')\n",
        "plt.plot(history.history['val_loss'], color='orange', label='val_loss')\n",
        "fig.suptitle('Loss', fontsize=20)\n",
        "plt.legend(loc=\"upper left\")\n",
        "plt.show()"
      ]
    },
    {
      "cell_type": "code",
      "execution_count": null,
      "metadata": {
        "colab": {
          "base_uri": "https://localhost:8080/",
          "height": 294
        },
        "id": "XO0iVCongy25",
        "outputId": "ae1d4ef7-8f8d-4db2-e330-c99f89b1dae7"
      },
      "outputs": [
        {
          "data": {
            "image/png": "[encoded data removed]",
            "text/plain": [
              "<Figure size 432x288 with 1 Axes>"
            ]
          },
          "metadata": {
            "needs_background": "light"
          },
          "output_type": "display_data"
        }
      ],
      "source": [
        "\n",
        "fig = plt.figure()\n",
        "plt.plot(history.history['acc'], color='teal', label='accuracy')\n",
        "plt.plot(history.history['val_acc'], color='orange', label='val_accuracy')\n",
        "fig.suptitle('Accuracy', fontsize=20)\n",
        "plt.legend(loc=\"upper left\")\n",
        "plt.show()"
      ]
    },
    {
      "cell_type": "code",
      "execution_count": null,
      "metadata": {
        "id": "qucKRrK0o7uO"
      },
      "outputs": [],
      "source": [
        "model.save('Revolicon.h5')"
      ]
    },
    {
      "cell_type": "code",
      "execution_count": null,
      "metadata": {
        "colab": {
          "base_uri": "https://localhost:8080/"
        },
        "id": "5wsGipJjpur-",
        "outputId": "39ee2568-ea27-4423-c50c-c229f9503138"
      },
      "outputs": [
        {
          "data": {
            "text/plain": [
              "(128, 128, 3)"
            ]
          },
          "execution_count": 200,
          "metadata": {},
          "output_type": "execute_result"
        }
      ],
      "source": [
        "from PIL import Image\n",
        "test_img = Image.open(\"test_heart.jpg\").resize((128, 128))\n",
        "img = np.array(test_img) \n",
        "img.shape\n"
      ]
    },
    {
      "cell_type": "code",
      "execution_count": null,
      "metadata": {
        "colab": {
          "base_uri": "https://localhost:8080/",
          "height": 1000
        },
        "id": "swR4V0fIrH2I",
        "outputId": "f58fa92a-10b1-4f0d-a69e-277c2112ed2c"
      },
      "outputs": [],
      "source": [
        "class_names=['arrow','clipboard','else','globe','heart','home','lock','music','pencil','photo','plane','speaker','weather']\n",
        "result=model.predict(img)\n",
        "print(class_names[result.tolist()[0].index(1)])"
      ]
    }
  ],
  "metadata": {
    "colab": {
      "provenance": []
    },
    "kernelspec": {
      "display_name": "Python 3",
      "name": "python3"
    },
    "language_info": {
      "name": "python"
    }
  },
  "nbformat": 4,
  "nbformat_minor": 0
}
